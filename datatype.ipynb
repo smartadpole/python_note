{
 "cells": [
  {
   "cell_type": "markdown",
   "metadata": {},
   "source": [
    "## 一   整数"
   ]
  },
  {
   "cell_type": "markdown",
   "metadata": {},
   "source": [
    "python3 中合并了 int 和 long，统一用 int（不再支持表示 long 类型的 L 常量后缀），采用变长结构，也就意味着可以创建天文数字，只要内存允许；  \n",
    "\n",
    "- **分割标记**：对于过长的数字，可进行分割标记，`123_23548_9786_8_234` 等同于 `1232354897868234`；该方式同样适用于二进制（bin）、八进制（oct）和十六进制（hex）；    \n",
    "- **进制间转换**：使用 int 函数，或使用 bin，oct，hex 函数；  \n",
    "- **与字符串互转**：使用 int 函数；  \n",
    "- **运算符**：除法（/，//，divmod）；  \n",
    "- **布尔**：是整数的子集；数字0、空值（None）、空序列和空字典都被视作 False，其余为 True；可重写 `__bool__` 或 `__len__` 方法影响 bool 转换结果；    \n",
    "- **枚举**：python 中没有枚举的定义，是通过标准库实现的——enum；枚举内部是字典，均有 name 和 value 属性；可通过继承，将枚举值修改为任意类型；  \n",
    "- **内存**：预缓存范围是 [-5, 256]；  "
   ]
  },
  {
   "cell_type": "markdown",
   "metadata": {},
   "source": [
    "## 二  浮点数"
   ]
  },
  {
   "cell_type": "markdown",
   "metadata": {},
   "source": [
    "## 三  字符串"
   ]
  },
  {
   "cell_type": "markdown",
   "metadata": {},
   "source": [
    "## 四 字节数组"
   ]
  },
  {
   "cell_type": "markdown",
   "metadata": {},
   "source": [
    "## 五 列表"
   ]
  },
  {
   "cell_type": "markdown",
   "metadata": {},
   "source": [
    "## 六 字典"
   ]
  },
  {
   "cell_type": "markdown",
   "metadata": {},
   "source": [
    "## 七 集合"
   ]
  },
  {
   "cell_type": "markdown",
   "metadata": {},
   "source": [
    "存储非重复对象 *（非重复：非同一对象，且值不相同）*"
   ]
  },
  {
   "cell_type": "code",
   "execution_count": 11,
   "metadata": {},
   "outputs": [
    {
     "name": "stdout",
     "output_type": "stream",
     "text": [
      "a is b:\t False\n",
      "b in s:\t True\n",
      "a is b:\t True\n"
     ]
    }
   ],
   "source": [
    "a = 1234\n",
    "b = 1234\n",
    "s = {a}  \n",
    "\n",
    "print(\"a is b:\\t\", a is b)\n",
    "print(\"b in s:\\t\", b  in s)\n",
    "\n",
    "a = 123\n",
    "b = 123\n",
    "\n",
    "print(\"a is b:\\t\", a is b) # why true"
   ]
  }
 ],
 "metadata": {
  "kernelspec": {
   "display_name": "Python 3",
   "language": "python",
   "name": "python3"
  },
  "language_info": {
   "codemirror_mode": {
    "name": "ipython",
    "version": 3
   },
   "file_extension": ".py",
   "mimetype": "text/x-python",
   "name": "python",
   "nbconvert_exporter": "python",
   "pygments_lexer": "ipython3",
   "version": "3.7.1"
  }
 },
 "nbformat": 4,
 "nbformat_minor": 2
}
